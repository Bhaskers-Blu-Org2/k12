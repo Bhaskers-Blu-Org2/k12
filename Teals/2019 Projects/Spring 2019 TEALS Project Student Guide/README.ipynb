{
  "cells": [
    {
      "metadata": {
        "collapsed": true
      },
      "cell_type": "markdown",
      "source": "# Cognitive Hackathon: Project\n\n## Summary\nHow would you change the world using cognitive computing? Think of a real-world application of the concepts we've covered. Imagine a design that will harness computer vision or text analytics to achieve a goal, help people, make money, advance science, entertain, heal, or inspire. Design a simple prototype of that idea and explore the data that would inform your solution.\n\n## Your Mission\nThe world is changing, with machines helping humans to make more and more of our key decisions. Cognitive computing helps us to drive, walk, and fly where we want to go. It helps engineers to build cars, architects to design buildings, and even teachers to guide their students to safety during disasters. Environmental scientists are using large amounts of data gathered from people, events, and the way we engage with the world around us to inform city planning, safety protocols, and strategies for reducing our footprint on this earth. Cognitive systems are helping doctors save patients, deliver babies, and cure cancer.\n\nKnowing what you've learned about what cognitive systems can do, it's your turn. Since we could only focus on a couple cognitive services in depth in this course, focus upon the capabilities of computer vision and text analytics to create an idea of your own. Choose whichever direction, value, industry, goal, or result that you would like to pursue. Make it something personal to you, something that you care about or that you find interesting. You can be an entrepreneur, be social-minded, discover something, or change the way people think. It's up to you.\n\nExample: Using public images from Instagram, a new technology could couple geolocation and images run through cognitive services to identify which cities prefer dogs to cats and which prefer cats to dogs. The social good aspect could be to help animals find homes faster by moving cats to cities that prefer cats and dogs to cities that prefer dogs.\n\n## Idea Stage (15 mins)\nSpend the next 15 minutes working independently to think about an idea. Once you've picked your idea, answer the following questions in 2-5 sentence to share with your group:\n* What is my idea? \n* What inspired my idea?\n* Who would benefit from this idea? How?\n\n## Group and Choose (45 mins)\nOrganize into project groups at your teacher's direction, whom you will work with on this entire course project. \n\nSpend the next 45 minutes working with your group. Each of you should present your idea, then together you should choose which idea to actually explore. Once you have chosen, answer the following questions with your group:\n* How would I build this idea? (You do not have to know exactly, just an estimation of what kinds of data sources you might need and if this would be a phone app, if it needs constant Internet source, if you need access to the camera, etc).\n* What are the biggest challenges? (Predict what the challenges might be to develop this product. Is it the technology? Convincing customers it's a good idea?)\n* Who has done something similar? Did they succeed? How? (Spend some time searching and comparing existing products with your idea).\n\n## Technology Overview (1 hr)\nNow that you have a high level concept, let's get into the detail in your application:\n\n* What cognitive API will I use? (Explore the Azure Cognitive Services APIs and think about how you might use them)\n* Where would the data come from? (A dataset doesn't have to currently exist for this project, but describe the dataset, where it would come from, and if anything similar does exist.)\n* What do you think the data look like? (Give a description of what kind of data and examples of that data).\n* What will be the UI design of my app? (Use Power Point, or even paper, to sketch out the screen(s) that your users would see.)\n* How will I measure success? (Describe what effect you want to have with your application).\n\n# Getting Started\nBefore you start, make sure you clone this Azure Notebook Project so that you can run everything too!\n<img width=\"1360\" alt=\"Screen Shot 2019-04-24 at 5 33 45 AM\" src=\"https://user-images.githubusercontent.com/1314285/56659742-c29e0c80-6652-11e9-99c8-198368198db5.png\">"
    }
  ],
  "metadata": {
    "kernelspec": {
      "name": "python2",
      "display_name": "Python 2",
      "language": "python"
    },
    "language_info": {
      "mimetype": "text/x-python",
      "nbconvert_exporter": "python",
      "name": "python",
      "pygments_lexer": "ipython2",
      "version": "2.7.15",
      "file_extension": ".py",
      "codemirror_mode": {
        "version": 2,
        "name": "ipython"
      }
    }
  },
  "nbformat": 4,
  "nbformat_minor": 2
}
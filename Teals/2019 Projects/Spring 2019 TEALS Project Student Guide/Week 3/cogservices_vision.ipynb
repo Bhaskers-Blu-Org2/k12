{
  "cells": [
    {
      "metadata": {},
      "cell_type": "markdown",
      "source": "\n\n\n# Computer Vision Cognitive Services\n## Detecting Coral Reefs and Scuba Diving Imagery\n\n### Overview\n\nHere we'll run a few examples of the Computer Vision cognitive service, that tries to view and recognize objects, environments, people, and activities in an image. This proof of concept will be focused on detecting corals, scuba diving equipment, and other reef-related images. We will also explore a similar example of skydiving, perhaps challenging to the service since the colors and gear visually is similar to scuba diving, and both the sky and sea are blue. These service calls return JSON contains tags with the services guesses which are each accompanied by a confidence level.\n\n**IMPORTANT**: Remember to enter your *API key* (secret) and *uri_base* that correspond to your own cognitive service license in the code below so your service calls will succeed.\n\n### - Computer Vision cognitive service\n### - Detect objects and activity in underwater setting\n### - Calls are assigned Tags and Confidences\n<br><br><br>\n\n## First Image: Coral Reef \n\nOur first image is obviously a photo of a coral reef with wildlife and fish.\n\n<br><br>\n![](https://timeincsecure-a.akamaihd.net/rtmp_uds/293884104/201703/2681/293884104_5360456295001_5360434467001-vs.jpg?pubId=293884104&videoId=5360434467001)\n"
    },
    {
      "metadata": {},
      "cell_type": "markdown",
      "source": "<br><br><br>\n### Assign license key\nGo to: https://azure.microsoft.com/en-us/try/cognitive-services/ and select Vision APIs and click \"Get Key\" next to the Computer Vision API:\n<img width=\"1126\" alt=\"Screen Shot 2019-04-24 at 5 01 51 AM\" src=\"https://user-images.githubusercontent.com/1314285/56658077-836dbc80-664e-11e9-956d-b03dea764f46.png\">\n\nMake sure you click on the 7-Day Free Trial:\n<img width=\"891\" alt=\"Screen Shot 2019-04-24 at 5 01 59 AM\" src=\"https://user-images.githubusercontent.com/1314285/56658081-8799da00-664e-11e9-88c1-83ce4fb5843a.png\">\n\nAgree to the terms and sign in with your Microsoft Account. Then you should see your endpoint url and subscription key, just like you did for the spell check one:\n<img width=\"1306\" alt=\"Screen Shot 2019-04-24 at 5 15 27 AM\" src=\"https://user-images.githubusercontent.com/1314285/56658879-96818c00-6650-11e9-9068-7fe88488e61b.png\">\n\nMake sure the key and enpoint below match:"
    },
    {
      "metadata": {
        "trusted": true
      },
      "cell_type": "code",
      "source": "# Define the Subscription key for making API calls.\nsecret = '4012d49a01a0486c9a3949a65b96162f'",
      "execution_count": 1,
      "outputs": []
    },
    {
      "metadata": {},
      "cell_type": "markdown",
      "source": "<br><br><br>\n### Import required libraries\n### Replace uri_base with your region\n### Choose parameters for API call"
    },
    {
      "metadata": {
        "trusted": true
      },
      "cell_type": "code",
      "source": "# Import required libraries for request headers and json extraction.\nimport http.client, urllib.request, urllib.parse, urllib.error, base64, json\n\n# Replace the subscription_key string value with your valid subscription key.\nsubscription_key = secret\n\n# Replace to match your region.\nuri_base = 'westus.api.cognitive.microsoft.com'\n\nheaders = {\n    # Request headers.\n    'Content-Type': 'application/json',\n    'Ocp-Apim-Subscription-Key': subscription_key,\n}\n\nparams = urllib.parse.urlencode({\n    # Request parameters. All of them are optional.\n    'visualFeatures': 'Description,Color,Tags',\n    'language': 'en',\n})",
      "execution_count": 2,
      "outputs": []
    },
    {
      "metadata": {},
      "cell_type": "markdown",
      "source": "<br><br><br>\n### Set image to \"body\"\n### Call cognitive service API\n### Return JSON response"
    },
    {
      "metadata": {
        "trusted": true
      },
      "cell_type": "code",
      "source": "body = \"{'url':'https://timeincsecure-a.akamaihd.net/rtmp_uds/293884104/201703/2681/293884104_5360456295001_5360434467001-vs.jpg?pubId=293884104&videoId=5360434467001'}\"\n\ntry:\n    # Execute the REST API call and get the response.\n    conn = http.client.HTTPSConnection('hackingstem.cognitiveservices.azure.com')\n    conn.request(\"POST\", \"/vision/v1.0/analyze?%s\" % params, body, headers)\n    response = conn.getresponse()\n    data = response.read()\n\n    # 'data' contains the JSON data. The following formats the JSON data for display.\n    parsed = json.loads(data.decode())\n    print (\"Response:\")\n    print (json.dumps(parsed, sort_keys=True, indent=2))\n    conn.close()\n\nexcept Exception as e:\n    print('Error:')\n    print(e)\n\n##################################",
      "execution_count": 3,
      "outputs": [
        {
          "output_type": "stream",
          "text": "Response:\n{\n  \"color\": {\n    \"accentColor\": \"048AC7\",\n    \"dominantColorBackground\": \"Brown\",\n    \"dominantColorForeground\": \"Brown\",\n    \"dominantColors\": [],\n    \"isBWImg\": false,\n    \"isBwImg\": false\n  },\n  \"description\": {\n    \"captions\": [\n      {\n        \"confidence\": 0.26692594483388654,\n        \"text\": \"a group of colorful underwater\"\n      }\n    ],\n    \"tags\": [\n      \"nature\",\n      \"covered\",\n      \"colorful\",\n      \"orange\",\n      \"reef\",\n      \"lot\",\n      \"colored\",\n      \"many\",\n      \"sitting\",\n      \"table\",\n      \"surrounded\",\n      \"painted\",\n      \"colors\",\n      \"fire\",\n      \"old\",\n      \"field\",\n      \"water\",\n      \"large\",\n      \"group\",\n      \"underwater\",\n      \"blue\",\n      \"display\",\n      \"room\",\n      \"hydrant\",\n      \"umbrella\",\n      \"people\",\n      \"standing\",\n      \"street\",\n      \"white\"\n    ]\n  },\n  \"metadata\": {\n    \"format\": \"Jpeg\",\n    \"height\": 720,\n    \"width\": 1280\n  },\n  \"requestId\": \"fee785ed-3d27-4241-ad00-3791a29e082d\",\n  \"tags\": [\n    {\n      \"confidence\": 0.9804526567459106,\n      \"name\": \"underwater\"\n    },\n    {\n      \"confidence\": 0.9777798652648926,\n      \"name\": \"aquarium\"\n    },\n    {\n      \"confidence\": 0.8753389120101929,\n      \"name\": \"water\"\n    },\n    {\n      \"confidence\": 0.862497091293335,\n      \"name\": \"fish\"\n    },\n    {\n      \"confidence\": 0.8598246574401855,\n      \"name\": \"coral\"\n    },\n    {\n      \"confidence\": 0.8286102414131165,\n      \"name\": \"nature\"\n    },\n    {\n      \"confidence\": 0.7438845634460449,\n      \"name\": \"diving\"\n    },\n    {\n      \"confidence\": 0.6094222068786621,\n      \"name\": \"marine invertebrates\"\n    },\n    {\n      \"confidence\": 0.4742690324783325,\n      \"name\": \"colorful\"\n    },\n    {\n      \"confidence\": 0.4733332097530365,\n      \"name\": \"orange\"\n    },\n    {\n      \"confidence\": 0.3992878496646881,\n      \"name\": \"reef\"\n    },\n    {\n      \"confidence\": 0.2842053174972534,\n      \"name\": \"colored\"\n    },\n    {\n      \"confidence\": 0.19803112745285034,\n      \"name\": \"surrounded\"\n    },\n    {\n      \"confidence\": 0.1796545833349228,\n      \"name\": \"painted\"\n    }\n  ]\n}\n",
          "name": "stdout"
        }
      ]
    },
    {
      "metadata": {},
      "cell_type": "markdown",
      "source": "<br><br><br>\nThe cognitive service understands that this is a colorful, orange, reef that may involve diving and fish with the description \"a group of colorful underwater\".  Look at the confidence values for each tag in the JSON.\n\n<br><br>\n\n### - Keywords and confidence values\n### - PROBABLY a colorful, orange, reef\n### - MAYBE diving and fish\n<br><br><br><br><br><br><br>"
    },
    {
      "metadata": {},
      "cell_type": "markdown",
      "source": "## Second Image: Scuba Diver\n\n### A second underwater image, of a diver this time\n<br><br>\n![](https://www.deeperblue.com/wp-content/uploads/2016/03/AdobeStock_62701813.jpeg)\n<br><br><br>"
    },
    {
      "metadata": {
        "trusted": true
      },
      "cell_type": "code",
      "source": "### Set new image of diver\n### Call cognitive service API\n### Return JSON response",
      "execution_count": null,
      "outputs": []
    },
    {
      "metadata": {
        "trusted": true
      },
      "cell_type": "code",
      "source": "body = \"{'url':'https://www.deeperblue.com/wp-content/uploads/2016/03/AdobeStock_62701813.jpeg'}\"\n\ntry:\n    # Execute the REST API call and get the response.\n    conn = http.client.HTTPSConnection('hackingstem.cognitiveservices.azure.com')\n    conn.request(\"POST\", \"/vision/v1.0/analyze?%s\" % params, body, headers)\n    response = conn.getresponse()\n    data = response.read()\n\n    # 'data' contains the JSON data. The following formats the JSON data for display.\n    parsed = json.loads(data.decode())\n    print (\"Response:\")\n    print (json.dumps(parsed, sort_keys=True, indent=2))\n    conn.close()\n\nexcept Exception as e:\n    print('Error:')\n    print(e)\n\n####################################",
      "execution_count": 4,
      "outputs": [
        {
          "output_type": "stream",
          "text": "Response:\n{\n  \"color\": {\n    \"accentColor\": \"016BCA\",\n    \"dominantColorBackground\": \"Blue\",\n    \"dominantColorForeground\": \"Blue\",\n    \"dominantColors\": [\n      \"Blue\"\n    ],\n    \"isBWImg\": false,\n    \"isBwImg\": false\n  },\n  \"description\": {\n    \"captions\": [\n      {\n        \"confidence\": 0.36200742539912,\n        \"text\": \"a statue of a person in a swimming pool\"\n      }\n    ],\n    \"tags\": [\n      \"sport\",\n      \"swimming\",\n      \"statue\",\n      \"water\",\n      \"small\",\n      \"sitting\",\n      \"air\",\n      \"man\",\n      \"holding\",\n      \"flying\",\n      \"yellow\",\n      \"riding\",\n      \"boat\",\n      \"blue\"\n    ]\n  },\n  \"metadata\": {\n    \"format\": \"Jpeg\",\n    \"height\": 3456,\n    \"width\": 5184\n  },\n  \"requestId\": \"051a3c75-c778-4faa-b212-b7deba67fe74\",\n  \"tags\": [\n    {\n      \"confidence\": 0.9971852898597717,\n      \"name\": \"sky\"\n    },\n    {\n      \"confidence\": 0.9857053160667419,\n      \"name\": \"reef\"\n    },\n    {\n      \"confidence\": 0.9742870926856995,\n      \"name\": \"sport\"\n    },\n    {\n      \"confidence\": 0.9645830988883972,\n      \"hint\": \"sport\",\n      \"name\": \"swimming\"\n    },\n    {\n      \"confidence\": 0.9560803771018982,\n      \"hint\": \"sport\",\n      \"name\": \"water sport\"\n    },\n    {\n      \"confidence\": 0.9445472955703735,\n      \"name\": \"diving equipment\"\n    },\n    {\n      \"confidence\": 0.9260842204093933,\n      \"name\": \"diving\"\n    },\n    {\n      \"confidence\": 0.9246597290039062,\n      \"name\": \"divemaster\"\n    },\n    {\n      \"confidence\": 0.914763331413269,\n      \"name\": \"scuba diving\"\n    },\n    {\n      \"confidence\": 0.8942509293556213,\n      \"name\": \"underwater diving\"\n    },\n    {\n      \"confidence\": 0.8606656789779663,\n      \"name\": \"aquanaut\"\n    },\n    {\n      \"confidence\": 0.8521773815155029,\n      \"name\": \"scuba\"\n    },\n    {\n      \"confidence\": 0.8454968333244324,\n      \"name\": \"oxygen mask\"\n    },\n    {\n      \"confidence\": 0.8378614783287048,\n      \"name\": \"underwater sports\"\n    },\n    {\n      \"confidence\": 0.7736577987670898,\n      \"name\": \"dry suit\"\n    },\n    {\n      \"confidence\": 0.7248813509941101,\n      \"name\": \"diving mask\"\n    },\n    {\n      \"confidence\": 0.7241581678390503,\n      \"name\": \"finswimming\"\n    },\n    {\n      \"confidence\": 0.6530106067657471,\n      \"name\": \"underwater\"\n    },\n    {\n      \"confidence\": 0.5948359370231628,\n      \"name\": \"swimfin\"\n    },\n    {\n      \"confidence\": 0.5871166586875916,\n      \"name\": \"buoyancy compensator\"\n    },\n    {\n      \"confidence\": 0.5779380202293396,\n      \"name\": \"water\"\n    },\n    {\n      \"confidence\": 0.4591835141181946,\n      \"name\": \"statue\"\n    },\n    {\n      \"confidence\": 0.013368663378059864,\n      \"name\": \"ocean floor\"\n    }\n  ]\n}\n",
          "name": "stdout"
        }
      ]
    },
    {
      "metadata": {},
      "cell_type": "markdown",
      "source": "<br><br><br>\nThe cognitive service has more difficulty with this image, describing it as \"a statue of a person in a swimming pool\".  It comprehends that there is swimming and a sport involved. Ocean floor, diving, and scuba are tags that received a low confidence when they should have been high, so the API didn't guess this one very well. Look at the confidence values for each term in the JSON.\n<br><br>\n### - This API call returned a less accurate result\n### - \"a statue of a person in a swimming pool\"\n### - Ocean floor, diving, and scuba tags all less than 2% confidence!\n\n<br><br><br><br><br><br>"
    },
    {
      "metadata": {},
      "cell_type": "markdown",
      "source": "## Image 3: Scuba Diving\n\n### Another scuba diving image\n<br><br>\n![](http://www2.padi.com/blog/wp-content/uploads/2016/10/scuba-diving-reef-e1476482719834.jpg)\n<br><br><br>"
    },
    {
      "metadata": {
        "trusted": true
      },
      "cell_type": "code",
      "source": "### Set next image of diver\n### Call cognitive service API\n### Return JSON response",
      "execution_count": null,
      "outputs": []
    },
    {
      "metadata": {
        "trusted": true
      },
      "cell_type": "code",
      "source": "body = \"{'url':'http://www2.padi.com/blog/wp-content/uploads/2016/10/scuba-diving-reef-e1476482719834.jpg'}\"\n\ntry:\n    # Execute the REST API call and get the response.\n    conn = http.client.HTTPSConnection('hackingstem.cognitiveservices.azure.com')\n    conn.request(\"POST\", \"/vision/v1.0/analyze?%s\" % params, body, headers)\n    response = conn.getresponse()\n    data = response.read()\n\n    # 'data' contains the JSON data. The following formats the JSON data for display.\n    parsed = json.loads(data.decode())\n    print (\"Response:\")\n    print (json.dumps(parsed, sort_keys=True, indent=2))\n    conn.close()\n\nexcept Exception as e:\n    print('Error:')\n    print(e)\n\n####################################",
      "execution_count": null,
      "outputs": []
    },
    {
      "metadata": {},
      "cell_type": "markdown",
      "source": "<br><br><br>\nThe results are similar to the previous image, with less accuracy. There is a slightly higher confidence on `underwater`, but lowered confidence on `swimming` and 'ocean floor'. The description is 'a group of people in a swimming pool'. One of the largest software companies in the world built these services, leading us to believe that cognitive services are hard to build.\n<br><br>\n### - Even less accurate\n### - \"a group of people in a swimming pool\"\n### - Conclusion: Cognitive services are hard\n\n<br><br><br><br><br><br>"
    },
    {
      "metadata": {},
      "cell_type": "markdown",
      "source": "## Image 4: Skydabbing\n\n### Skydiving image\n\nSkydiving is visually similar to scuba diving, and both the sky and sea are blue, which could also pose a challenge to the service's cognition, so let's see how the computer vision service does in the sky. \n<br><br>\n\n![](https://pbs.twimg.com/media/ClQSCsgUgAA_i3B.jpg)\n\n<br><br><br>"
    },
    {
      "metadata": {},
      "cell_type": "markdown",
      "source": "### Set image of skydiver\n### Call cognitive service API\n### Return JSON response"
    },
    {
      "metadata": {
        "trusted": true
      },
      "cell_type": "code",
      "source": "body = \"{'url':'https://pbs.twimg.com/media/ClQSCsgUgAA_i3B.jpg'}\"\n\ntry:\n    # Execute the REST API call and get the response.\n    conn = http.client.HTTPSConnection('hackingstem.cognitiveservices.azure.com')\n    conn.request(\"POST\", \"/vision/v1.0/analyze?%s\" % params, body, headers)\n    response = conn.getresponse()\n    data = response.read()\n\n    # 'data' contains the JSON data. The following formats the JSON data for display.\n    parsed = json.loads(data.decode())\n    print (\"Response:\")\n    print (json.dumps(parsed, sort_keys=True, indent=2))\n    conn.close()\n\nexcept Exception as e:\n    print('Error:')\n    print(e)\n\n####################################",
      "execution_count": 5,
      "outputs": [
        {
          "output_type": "stream",
          "text": "Response:\n{\n  \"color\": {\n    \"accentColor\": \"2C497D\",\n    \"dominantColorBackground\": \"Grey\",\n    \"dominantColorForeground\": \"Blue\",\n    \"dominantColors\": [\n      \"Grey\",\n      \"Blue\"\n    ],\n    \"isBWImg\": false,\n    \"isBwImg\": false\n  },\n  \"description\": {\n    \"captions\": [\n      {\n        \"confidence\": 0.931517660727122,\n        \"text\": \"a man flying through the air on a mountain\"\n      }\n    ],\n    \"tags\": [\n      \"outdoor\",\n      \"air\",\n      \"mountain\",\n      \"flying\",\n      \"man\",\n      \"view\",\n      \"jumping\",\n      \"high\",\n      \"snow\",\n      \"hill\",\n      \"plane\",\n      \"doing\",\n      \"airplane\",\n      \"water\",\n      \"riding\",\n      \"skiing\",\n      \"trick\",\n      \"board\",\n      \"city\",\n      \"ramp\"\n    ]\n  },\n  \"metadata\": {\n    \"format\": \"Jpeg\",\n    \"height\": 900,\n    \"width\": 1200\n  },\n  \"requestId\": \"f39d89f5-0818-45cd-a208-cd9b440ece74\",\n  \"tags\": [\n    {\n      \"confidence\": 0.9998109936714172,\n      \"name\": \"sky\"\n    },\n    {\n      \"confidence\": 0.9982977509498596,\n      \"name\": \"outdoor\"\n    },\n    {\n      \"confidence\": 0.9866004586219788,\n      \"name\": \"air\"\n    },\n    {\n      \"confidence\": 0.9714681506156921,\n      \"name\": \"mountain\"\n    },\n    {\n      \"confidence\": 0.928756833076477,\n      \"name\": \"flying\"\n    },\n    {\n      \"confidence\": 0.8385414481163025,\n      \"name\": \"adventure\"\n    },\n    {\n      \"confidence\": 0.8351747989654541,\n      \"name\": \"extreme sport\"\n    },\n    {\n      \"confidence\": 0.6914498805999756,\n      \"name\": \"nature\"\n    },\n    {\n      \"confidence\": 0.6773923635482788,\n      \"name\": \"parachute\"\n    },\n    {\n      \"confidence\": 0.6454890966415405,\n      \"name\": \"aerial\"\n    },\n    {\n      \"confidence\": 0.6309514045715332,\n      \"name\": \"sports equipment\"\n    },\n    {\n      \"confidence\": 0.6004566550254822,\n      \"name\": \"outdoor recreation\"\n    },\n    {\n      \"confidence\": 0.5939582586288452,\n      \"name\": \"snowboarding\"\n    },\n    {\n      \"confidence\": 0.593016505241394,\n      \"name\": \"tandem skydiving\"\n    },\n    {\n      \"confidence\": 0.5838602781295776,\n      \"name\": \"air sports\"\n    },\n    {\n      \"confidence\": 0.5804702639579773,\n      \"name\": \"parachuting\"\n    },\n    {\n      \"confidence\": 0.5503212213516235,\n      \"hint\": \"sport\",\n      \"name\": \"jumping\"\n    },\n    {\n      \"confidence\": 0.5327184796333313,\n      \"name\": \"high\"\n    },\n    {\n      \"confidence\": 0.5087156891822815,\n      \"name\": \"stunt performer\"\n    },\n    {\n      \"confidence\": 0.17610660195350647,\n      \"name\": \"land\"\n    }\n  ]\n}\n",
          "name": "stdout"
        }
      ]
    },
    {
      "metadata": {
        "trusted": true
      },
      "cell_type": "markdown",
      "source": "<br><br><br>\nThe service nails the location with a high confidence on 'air', 'sky' and 'outdoor'.  The addition of 'mountain' is likely due to the slanted horizon, a tough call unless you know that this is skydiving, and 'skydiving' and 'jump' are down around 10-15%. The description is \"a man flying through the air on a mountain\", so cognitive services detects this as an aerial photo with high confidence but is not versed in hip-hop dance moves, which block the diver's face, making it difficult to determine whether this is a male or female. \n<br><br>\n### - Service understands that the image is in the sky\n### - Misinterprets horizon for 'mountain'\n### - 'a man flying through the air on a mountain'\n### - The diver's dance moves obscure her face\n\n<br><br>"
    }
  ],
  "metadata": {
    "kernelspec": {
      "name": "python3",
      "display_name": "Python 3",
      "language": "python"
    },
    "language_info": {
      "mimetype": "text/x-python",
      "nbconvert_exporter": "python",
      "name": "python",
      "file_extension": ".py",
      "version": "3.5.4",
      "pygments_lexer": "ipython3",
      "codemirror_mode": {
        "version": 3,
        "name": "ipython"
      }
    }
  },
  "nbformat": 4,
  "nbformat_minor": 2
}
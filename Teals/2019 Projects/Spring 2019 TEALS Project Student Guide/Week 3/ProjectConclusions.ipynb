{
  "cells": [
    {
      "metadata": {
        "collapsed": true
      },
      "cell_type": "markdown",
      "source": "# Cognitive Hackathon: Project Conclusions\n\n## Overview\nProject summaries are created for team presentations.\n\n## Objectives\nWith your team, create a summary of your project, including data inputs and JSON outputs and interpretation, as well as your conclusions. Put results into your notebooks to use for presentations next week. \n\nSummaries should answer these questions:\n\n* Project Goals\n* Cognitive Services\n* Data Sets\n* Project Output and Result\n* Conclusions\n* New Directions\n\nConclusions shouls reflect the feedback form the team. As a guide, here are detailed descriptions of suggested questions to answer in your project conclusions:\n\n### Project Goals\nWhat is the goal of the project?\nWho would benefit from this idea? How?\nWhat are the challenges?\n\n### Cognitive Services\nHow will cognitive services help make the project a reality?\nAre the provided cognitive services sufficient to meet the projects requirements? If so then how? In not then what more is needed?\nWhat are the important aspects of the cognitive analysis that must work in order for the project to succeed?\nWhat are some of the risks in using cognitive services for this project?\n\n### Data Sets\nWhat data sets (images, text) would be necessary to make this project a success?\nWhat will be the sources of that data and how will it be gathered?\n\n### Project Output and Result\nWhat are the outputs of this project? Decisions, analysis, data, etc.\nWho will use this output? How?\nWhat would constitute useful output?\n\n### Conclusions\nWhat were the successes in this project? What were the challenges?\nWhat would be the best case scenario for the success of this project? How would it affect the world?\n\n### New Directions\nWhat were some of the best ideas that came up for other projects?\nWould those also use cognitive services or something else?\n\n## Summary\nProject conclusions were formulated by each team."
    }
  ],
  "metadata": {
    "kernelspec": {
      "name": "python2",
      "display_name": "Python 2",
      "language": "python"
    },
    "language_info": {
      "mimetype": "text/x-python",
      "nbconvert_exporter": "python",
      "name": "python",
      "pygments_lexer": "ipython2",
      "version": "2.7.15",
      "file_extension": ".py",
      "codemirror_mode": {
        "version": 2,
        "name": "ipython"
      }
    }
  },
  "nbformat": 4,
  "nbformat_minor": 2
}
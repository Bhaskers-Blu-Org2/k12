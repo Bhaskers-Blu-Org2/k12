{
  "cells": [
    {
      "metadata": {
        "collapsed": true
      },
      "cell_type": "markdown",
      "source": "# Cognitive Hackathon: Week 4\n## Project Data Review\n\n## Overview\nStudents discuss data topics in regards to their projects.\n\n## Group Review (60 mins)\nIn light of yesterday's discussion about data and its interpretation, think about and discuss these topics with the class:\n\n\t• What were some of the gaps in our data?\n    • What did we learn from our project analysis?\n\t• What were some of our incorrect assumptions?\n\t• What might be some ethical implications of our project?\n\t• What did we learn about our project?\n\nYou can add to your Azure Notebook with these newfound concerns around data analysis ethics.\n\n## Summary\nWe developed an increased understanding of the role of data in our projects.\n"
    }
  ],
  "metadata": {
    "kernelspec": {
      "name": "python2",
      "display_name": "Python 2",
      "language": "python"
    },
    "language_info": {
      "mimetype": "text/x-python",
      "nbconvert_exporter": "python",
      "name": "python",
      "pygments_lexer": "ipython2",
      "version": "2.7.15",
      "file_extension": ".py",
      "codemirror_mode": {
        "version": 2,
        "name": "ipython"
      }
    }
  },
  "nbformat": 4,
  "nbformat_minor": 2
}
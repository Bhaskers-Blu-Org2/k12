{
  "cells": [
    {
      "metadata": {
        "collapsed": true
      },
      "cell_type": "markdown",
      "source": "# Cognitive Hackathon: Week 4\n## Bonus Cognitive Services\n\n## Overview\nHack some extra cognitive services.\n\n## Objectives\nActivate more API keys for services you didn't try before.\n\n## Prerequisites\nCompleted Computer Vision and Text Analytics Labs.\n\n## Exercises\nThis hands-on lab includes the following exercises:\n* Exercise 1: Demo cognitive services\n* Exercise 2: Try some cognitive services\n\n### Exercise 1: Demo cognitive services \n There are quite a few cognitive services that you haven't worked with in this course. \n\n    https://azure.microsoft.com/en-us/services/cognitive-services/directory/\n\nYou can do an online demo these APIs using the \"Demo\" link next to the APIs. Demo as many as you want. Once you go to the link above, see the tabs up top for our Azure Cognitive Services:\n\n* Vision\n* Speech\n* Language\n* Anomaly Detection\n* Search\n\nEach of these tabs contains a group of cognitive APIs:\n\n### Vision\nExtract information from images to categorize and process visual data. Perform machine-assisted moderation of images to help curate your services.\n* Computer Vision\n* Video Indexer\n* Face \n* Custom Vision\n* Content Moderator\n\n### Speech\nTranslate between speech, text, and other languages as well as identify speakers.\n* Speech to Text\n* Text to Speech\n* Speaker Recognition\n* Speech Translation\n\n### Language\nBuild apps that comprehend text and its grammar, meaning, and emotion.\n* Text Analytics\n* Bing Spell Check\n* Content Moderator (again)\n* Translator Text\n* QnA Maker\n* Language Understanding\n\n### Anomaly Detection\nIdentify problems in real time.\n* Anomaly Detector\n\n### Search\nAdd search capability for finding and identifying web pages, images, videos, and news.\n* Bing Web Search\n* Custom Search\n* Video Search\n* Image Search\n* Local Business Search\n* Visual Search\n* Entity Search\n* News Search\n* Autosuggest\n\nThere are lots of demos for you to try, but after you've demoed enough services, you can try them out yourself. \n\n### Exercise 2: Try some cognitive services (Difficult)\nThis exercise ranges from moderate to difficult. The purpose of today is open-ended exploration. It's not a day where code needs to all work. If you get it working, fantastic. If you can review the code, read the doc, and see the API in action in the demo then you're still good. When in doubt or undue difficulty, stick with the demos (Exercise 1).\n\nTo work with API client code, click \"Try for free\", and choose the free 7-day licenses for all of these services and experiment with them on your own.\n\nIf the API option that you choose can't be added, you'll be given a list of *Your APIs* listing all of your licenses. Scroll down below this list to see more options that you haven't tried yet.\n\nOnce you add a new service, copy and paste the API key somewhere in your notes. Click on the Quickstart button. This brings you to the documentation on that service. Read the overview about this new server. You'll then need to open menus on the left until you find the Python submenu. There you'll find the code to build the client that calls the service. You can review the code visually, or if you're feeling brave, you can copy these snippets of code into a new Azure Notebook and try and run them with your API key. \n\nAgain, run demos using the *Demo* links and get into the code with *Try It Out* and *Quickstarts*.\n\n## Summary\nWe've explored a few final cognitive services to wrap up this course."
    }
  ],
  "metadata": {
    "kernelspec": {
      "name": "python2",
      "display_name": "Python 2",
      "language": "python"
    },
    "language_info": {
      "mimetype": "text/x-python",
      "nbconvert_exporter": "python",
      "name": "python",
      "pygments_lexer": "ipython2",
      "version": "2.7.15",
      "file_extension": ".py",
      "codemirror_mode": {
        "version": 2,
        "name": "ipython"
      }
    }
  },
  "nbformat": 4,
  "nbformat_minor": 2
}
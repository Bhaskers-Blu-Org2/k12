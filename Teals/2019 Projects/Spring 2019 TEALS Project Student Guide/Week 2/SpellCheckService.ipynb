{
  "cells": [
    {
      "metadata": {
        "collapsed": true
      },
      "cell_type": "markdown",
      "source": "# Spell Check Cognitive Service: Bing"
    },
    {
      "metadata": {},
      "cell_type": "markdown",
      "source": "The Bing Spell Check API enables you to perform contextual grammar and spell checking on text. While most spell-checkers rely on dictionary-based rule sets, the Bing spell-checker leverages machine learning and statistical machine translation to provide accurate and contextual corrections.\n\n### - Cognitive spell check is smarter than just a dictionary lookup\n### - Contextually aware\n\nMake your first call to the Bing Spell Check REST API. This simple Python application sends a request to the API and returns a list of suggested corrections. While this application is written in Python, the API is a RESTful Web service compatible with most programming languages.\n<br>"
    },
    {
      "metadata": {},
      "cell_type": "markdown",
      "source": "## First, add these import statements."
    },
    {
      "metadata": {
        "trusted": true
      },
      "cell_type": "code",
      "source": "import requests\nimport json",
      "execution_count": 1,
      "outputs": []
    },
    {
      "metadata": {},
      "cell_type": "markdown",
      "source": "<br>\n## Create variables for the text you want to spell check, your subscription key, and your Bing Spell Check endpoint.\n\nFirst you will want to enter your subscription key. Go to: https://azure.microsoft.com/en-us/try/cognitive-services/ and select Language APIs and click \"Get Key\" next to the Bing Spell Check API:\n<img width=\"1149\" alt=\"Screen Shot 2019-04-24 at 5 02 11 AM\" src=\"https://user-images.githubusercontent.com/1314285/56658084-89fc3400-664e-11e9-8aa8-e59370ccbdb1.png\">\n\nMake sure you click on the 7-Day Free Trial:\n<img width=\"891\" alt=\"Screen Shot 2019-04-24 at 5 01 59 AM\" src=\"https://user-images.githubusercontent.com/1314285/56658081-8799da00-664e-11e9-88c1-83ce4fb5843a.png\">\n\nAgree to the terms and sign in with your Microsoft Account. Then you should see your endpoint url and subscription key:\n<img width=\"1306\" alt=\"Screen Shot 2019-04-24 at 5 15 27 AM\" src=\"https://user-images.githubusercontent.com/1314285/56658879-96818c00-6650-11e9-9068-7fe88488e61b.png\">\n\nMake sure the key and enpoint below match:"
    },
    {
      "metadata": {
        "trusted": true
      },
      "cell_type": "code",
      "source": "api_key = \"INSERT YOUR KEY\"\nexample_text = \"Hollo, wrld\" # the text to be spell-checked\nendpoint = \"https://api.cognitive.microsoft.com/bing/v7.0/SpellCheck\"",
      "execution_count": 2,
      "outputs": []
    },
    {
      "metadata": {},
      "cell_type": "markdown",
      "source": "<br>\n## Create a new dictionary with text as the key, and your text as the value."
    },
    {
      "metadata": {
        "trusted": true
      },
      "cell_type": "code",
      "source": "data = {'text': example_text}",
      "execution_count": 3,
      "outputs": []
    },
    {
      "metadata": {},
      "cell_type": "markdown",
      "source": "<br>\n## Add the parameters for your request."
    },
    {
      "metadata": {
        "trusted": true
      },
      "cell_type": "code",
      "source": "params = {\n    'mkt':'en-us',\n    'mode':'proof'\n    }",
      "execution_count": 4,
      "outputs": []
    },
    {
      "metadata": {},
      "cell_type": "markdown",
      "source": "<br>\n## Add a Content-Type header, and your subscription key to the Ocp-Apim-Subscription-Key header."
    },
    {
      "metadata": {
        "trusted": true
      },
      "cell_type": "code",
      "source": "headers = {\n    'Content-Type': 'application/x-www-form-urlencoded',\n    'Ocp-Apim-Subscription-Key': api_key,\n    }",
      "execution_count": 5,
      "outputs": []
    },
    {
      "metadata": {},
      "cell_type": "markdown",
      "source": "<br>\n## Send the POST request using the requests library."
    },
    {
      "metadata": {
        "trusted": true
      },
      "cell_type": "code",
      "source": "response = requests.post(endpoint, headers=headers, params=params, data=data)",
      "execution_count": 6,
      "outputs": []
    },
    {
      "metadata": {},
      "cell_type": "markdown",
      "source": "<br>\n## Get the JSON response, and print it."
    },
    {
      "metadata": {
        "trusted": true
      },
      "cell_type": "code",
      "source": "json_response = response.json()\nprint(json.dumps(json_response, indent=4))",
      "execution_count": 7,
      "outputs": [
        {
          "output_type": "stream",
          "text": "{\n    \"message\": \"Access denied due to invalid subscription key. Make sure to provide a valid key for an active subscription.\", \n    \"statusCode\": 401\n}\n",
          "name": "stdout"
        }
      ]
    },
    {
      "metadata": {},
      "cell_type": "markdown",
      "source": "Note the suggestions for each word or 'token' preceded by a confidence score. This JSON gives suggestions for two tokens: \"Hollo\" and \"wrld\". The suggestions are \"Hello\" and \"Hollow\" with medium-high confidence, and \"world\" with high confidence. The corrections are correct!\n\n### - Each corrected word is a 'token'\n### - Each token has a confidence 'score'\n### - Suggested phrase is \"Hello world\"\n### - Corrections are correct!"
    }
  ],
  "metadata": {
    "kernelspec": {
      "name": "python2",
      "display_name": "Python 2",
      "language": "python"
    },
    "language_info": {
      "mimetype": "text/x-python",
      "nbconvert_exporter": "python",
      "name": "python",
      "pygments_lexer": "ipython2",
      "version": "2.7.15",
      "file_extension": ".py",
      "codemirror_mode": {
        "version": 2,
        "name": "ipython"
      }
    }
  },
  "nbformat": 4,
  "nbformat_minor": 2
}
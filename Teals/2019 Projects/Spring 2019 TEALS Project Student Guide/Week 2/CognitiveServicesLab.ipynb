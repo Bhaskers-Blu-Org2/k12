{
  "cells": [
    {
      "metadata": {
        "collapsed": true
      },
      "cell_type": "markdown",
      "source": "# Cognitive Hackathon: Week 2\n# Cognitive Services Capabilities\n\n## Overview\nToday is a class discussion and brainstorm about cognitive services and what they can and could do. Here are some key questions to think about:\n\n### Thoughts\n* What are the your thoughts on the past week?\n* What are your questions?\n\n### Cognitive\n* What are some of the different kinds of cognitive services?\n* What can they do?\n* What types of questions can these services answer?\n* What decisions can they help people make?\n\n### Data sets and analysis\n* Why are images made? Where are pictures and videos taken?\n* Why is text made? What are circumstances where text is created?\n* Why is identification and cataloguing within images important?\n* Why is sentiment analysis (good/bad feeling) important?\n\n### Computer Vision\n* How could we use Computer Vision?\n* Where could we use Computer Vision?\n* How could Computer Vision help us to better understand the world?\n* What are some useful Computer Vision data sets?\n* What decisions could Computer Vision help us with?\n\n### Text Analytics\n* How could we use text analytics?\n* Where could we use text analytics?\n* How could text analytics help us to better understand people? \n* What are some useful text analytics data sets?\n* What decisions could text analytics help us with?\n\nYou should now have a good understanding now of cognitive services and the directions they can be taken. "
    }
  ],
  "metadata": {
    "kernelspec": {
      "name": "python2",
      "display_name": "Python 2",
      "language": "python"
    },
    "language_info": {
      "mimetype": "text/x-python",
      "nbconvert_exporter": "python",
      "name": "python",
      "pygments_lexer": "ipython2",
      "version": "2.7.15",
      "file_extension": ".py",
      "codemirror_mode": {
        "version": 2,
        "name": "ipython"
      }
    }
  },
  "nbformat": 4,
  "nbformat_minor": 2
}
{
  "cells": [
    {
      "metadata": {
        "collapsed": true
      },
      "cell_type": "markdown",
      "source": "# Cognitive Hackathon: Week 1 - Teacher's Guide\n## Overview\n\nWeek 1 introduces cognitive computing and the development environment for the project. The first four hours of this project will break down into these sections, which can be done one per day:\n\n**[Day 1](https://sp19azureteachersguide-sguthals.notebooks.azure.com/j/notebooks/Week%201/Day1.ipynb)**  Cognitive computing demonstrations and explanation\n\n**[Day 2](https://sp19azureteachersguide-sguthals.notebooks.azure.com/j/notebooks/Week%201/Day2.ipynb)**  Azure Notebooks intro and lab\n\n**[Day 3](https://sp19azureteachersguide-sguthals.notebooks.azure.com/j/notebooks/Week%201/Day3.ipynb)**  Python intro and lab\n\n**[Day 4](https://sp19azureteachersguide-sguthals.notebooks.azure.com/j/notebooks/Week%201/Day4.ipynb)**  Explore Artificial Intelligence (AI)\n\n\nHere is detail of these Week 1 course days:\n\n## [Day 1](https://sp19azureteachersguide-sguthals.notebooks.azure.com/j/notebooks/Week%201/Day1.ipynb)\n\nThe first day is about exploring what is possible in the world of cognitive computing. This course will give special focus to vision and text and examples will reflect that. The instructor will demonstrate examples of cognitive computing while also introducing the foundational concepts, including machine learning, models, and artificial intelligence. The era ahead of us will bear much growth and change in this area, and these changes to our culture and commerce are expected to supercede even the internet. It will be an exciting time ahead and these examples and concepts provide just a hint of what is to come. Explore the Azure Cognitive API in all of its facets, with special focus on Vision and Text.\n\n## [Day 2](https://sp19azureteachersguide-sguthals.notebooks.azure.com/j/notebooks/Week%201/Day2.ipynb)\n\nAzure Notebooks is the next topic, with an overview by the instructor. The students will get hands-on with the coding environment they'll be using for this course: Azure Notebooks. This online implementation of the open source development environment called Jupyter lets the student create projects in Python, and debug and run them without downloading any software: this is cloud-based software development. The lab will include the creation of a project and files, editing of markdown, and running of code.\n\n## [Day 3](https://sp19azureteachersguide-sguthals.notebooks.azure.com/j/notebooks/Week%201/Day3.ipynb)\n\nDay three involves wrapping up the Azure Notebook Lab and lesson, then delving into the Python language, exploring its use in Azure Notebooks, basic syntax, and code examples. This day will orient the students sufficiently that they may strike out on their own, experimenting with the language while they build their own Notebooks.\n\n## [Day 4](https://sp19azureteachersguide-sguthals.notebooks.azure.com/j/notebooks/Week%201/Day4.ipynb)\n\nAfter the Python labs are completed, day four is for exploring AI in the context of cognitive computing and examining real-world examples of AI.  a commonly used term. The student project for this course will be introduced. End the week with an explanation of the class project. Finally the instructor should get students thinking about ways that they would use cognitive computing. \n"
    }
  ],
  "metadata": {
    "kernelspec": {
      "name": "python2",
      "display_name": "Python 2",
      "language": "python"
    },
    "language_info": {
      "mimetype": "text/x-python",
      "nbconvert_exporter": "python",
      "name": "python",
      "pygments_lexer": "ipython2",
      "version": "2.7.15",
      "file_extension": ".py",
      "codemirror_mode": {
        "version": 2,
        "name": "ipython"
      }
    }
  },
  "nbformat": 4,
  "nbformat_minor": 2
}
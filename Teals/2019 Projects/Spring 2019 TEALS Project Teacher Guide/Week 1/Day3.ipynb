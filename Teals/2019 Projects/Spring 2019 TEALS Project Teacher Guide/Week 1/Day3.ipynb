{
  "cells": [
    {
      "metadata": {
        "collapsed": true
      },
      "cell_type": "markdown",
      "source": "# Cognitive Hackathon: Week 1 - Teacher's Guide\n## Day 3\n\n## Overview\nExplore Python witnin the Azure Notebooks environment.\n\n## Objectives\nDay three involves wrapping up the Azure Notebook Lab and lesson, then delving into the Python language, exploring its use in Azure Notebooks, basic syntax, and code examples. This day will orient the students that they may strike out on their own with Python, experimenting with the language while they build their own Notebooks.\n\n\n## Student Lab: Azure Notebooks Lab (10 mins)\n\nStudents will complete the [lab](https://sp19tealsazureproject-sguthals.notebooks.azure.com/j/notebooks/Week%201/AzureLab.ipynb) from the previous day, which includes these activities:\n\n* Create a free Azure Notebooks account\n* Create a new Project\n* Create a new Notebook\n* Notebook Cells\n* Code Cells\n\nNext let's explore Python by running snippets of code in Azure Notebook Code Cells.\n\n## Teacher Demo: Introduction to Python (20 mins)\nWalk through Python code examples using the following Azure Notebook:\n[Introduction to Python](https://sp19tealsazureproject-sguthals.notebooks.azure.com/j/notebooks/Week%201/IntroductionToPython.ipynb).\n\nFor a fresh start with your demo, clear all of the notebook output using the Kernel menu option \"Restart & Clear Output\".\n\nThat notebook introduces these Python topics:\n* Comments\n* Data Types\n* Lists\n* Control Flow Tools\n* Functions\n* Classes\n* Errors and Exceptions\n\nOnce your demo is completed, it's the students' turn.\n\n## Student Lab: Introduction to Python (30 mins)\nThe students should now walk through the Intro to Python lab using the same notebook.\n[Introduction to Python](https://sp19tealsazureproject-sguthals.notebooks.azure.com/j/notebooks/Week%201/IntroductionToPython.ipynb).\n\n## Summary\nThis class introduced the fundamentals of Python.\n\n[<< Day 2](https://sp19azureteachersguide-sguthals.notebooks.azure.com/j/notebooks/Week%201/Day2.ipynb)       [Day 4 >>](https://sp19azureteachersguide-sguthals.notebooks.azure.com/j/notebooks/Week%201/Day4.ipynb)"
    }
  ],
  "metadata": {
    "kernelspec": {
      "name": "python2",
      "display_name": "Python 2",
      "language": "python"
    },
    "language_info": {
      "mimetype": "text/x-python",
      "nbconvert_exporter": "python",
      "name": "python",
      "pygments_lexer": "ipython2",
      "version": "2.7.15",
      "file_extension": ".py",
      "codemirror_mode": {
        "version": 2,
        "name": "ipython"
      }
    }
  },
  "nbformat": 4,
  "nbformat_minor": 2
}
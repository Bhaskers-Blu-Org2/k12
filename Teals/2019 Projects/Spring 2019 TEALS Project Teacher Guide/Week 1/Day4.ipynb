{
  "cells": [
    {
      "metadata": {
        "collapsed": true
      },
      "cell_type": "markdown",
      "source": "# Cognitive Hackathon: Week 1 - Teacher's Guide\n## Day 4\n\n## Overview\nArtificial Intelligence (AI) is now a commonly used term. This class will explore AI in the context of cognitive computing and examine real-world examples of AI. The student project for this course will be introduced.\n\n## Objectives\nToday there are a few goals:\n* Students complete the Python labs, with students becoming familiar with the Notebook IDE and Python language used throughout this class. \n* Explain Artificial Intelligence (AI) in the context of cognitive computing. Show real-world examples of AI. Get the students thinking about ways that they could use cognitive computing. \n* Make mention of the course project.\n\n## Student Lab: Introduction to Python (15 mins)\n\nAllow the students to complete their Python Lab and spend some time experimenting with the language. See Azure Notebook: [Introduction to Python](https://sp19tealsazureproject-sguthals.notebooks.azure.com/j/notebooks/Week%201/IntroductionToPython.ipynb). This skill is critical to success in this course. These are the tasks in the Python Lab:\n\n* Comments\n* Data Types\n* Lists\n* Control Flow Tools\n* Functions\n* Classes\n* Errors and Exceptions\n\n\n## Teacher Presentation: Real World AI (40 mins)\n\nIntroduce the concept of AI and provide real-world examples. Present directly from the slideshow-like notebook called [*Real-world-AI*](https://sp19azureteachersguide-sguthals.notebooks.azure.com/j/notebooks/Week%201/Real_World_AI.ipynb).\n\n\nIntroduce the fulcrum of this course: the student project.\n\n## Teacher Explains: Student Project (5 mins)\n\nThe student project for the course is central to this curriculum and everything covered in Week 1 leads up to the project that begins in Week 2.  Here is the project high-level requirement: \n\n\"How would you change the world using cognitive computing? Think of a real-world application of the concepts we've introduced. Imagine a design that will harness computer vision or text analytics to achieve a goal, help people, make money, advance science, entertain, heal, or inspire. Build a simple, working prototype of that idea.\"\n\nGet the students thinking about these questions and topics.\n\n(Don't hand the project out until next week. Today is just a teaser.)\n\n## Summary\nThis class covered Artificial Intelligence (AI) and some real-world examples. The crux of the student course project was introduced.\n\n[<< Day 3](https://sp19azureteachersguide-sguthals.notebooks.azure.com/j/notebooks/Week%201/Day3.ipynb)          [Week 2 >>](https://sp19azureteachersguide-sguthals.notebooks.azure.com/j/notebooks/Week%202/README.ipynb)\n"
    }
  ],
  "metadata": {
    "kernelspec": {
      "name": "python2",
      "display_name": "Python 2",
      "language": "python"
    },
    "language_info": {
      "mimetype": "text/x-python",
      "nbconvert_exporter": "python",
      "name": "python",
      "pygments_lexer": "ipython2",
      "version": "2.7.15",
      "file_extension": ".py",
      "codemirror_mode": {
        "version": 2,
        "name": "ipython"
      }
    }
  },
  "nbformat": 4,
  "nbformat_minor": 2
}
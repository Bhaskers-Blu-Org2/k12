{
  "cells": [
    {
      "metadata": {
        "collapsed": true
      },
      "cell_type": "markdown",
      "source": "# Cognitive Hackathon: Rubric\n\nThese are milestones that can be used to measure the level of a student's participation in this course. Each week has a couple of action items with points beside it. All points add up to one hundred.\n\n## Week 1\nAzure Notebooks Lab (5)\nPython Lab (5)\n\n## Week 2\nTeam Project Brainstorm (10)\nTeam Project Topic (15)\n\n## Week 3\nComputer Vision Lab (5)\nText Analytics Lab (5)\nProject Implementation (20)\n\n## Week 4\nProject Conclusions/Presentation (30)\nGroup Discussion on Data (5)\n\n\n"
    }
  ],
  "metadata": {
    "kernelspec": {
      "name": "python2",
      "display_name": "Python 2",
      "language": "python"
    },
    "language_info": {
      "mimetype": "text/x-python",
      "nbconvert_exporter": "python",
      "name": "python",
      "pygments_lexer": "ipython2",
      "version": "2.7.15",
      "file_extension": ".py",
      "codemirror_mode": {
        "version": 2,
        "name": "ipython"
      }
    }
  },
  "nbformat": 4,
  "nbformat_minor": 2
}
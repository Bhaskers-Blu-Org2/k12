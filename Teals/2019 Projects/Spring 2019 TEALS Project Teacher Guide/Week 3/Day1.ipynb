{
  "cells": [
    {
      "metadata": {
        "collapsed": true
      },
      "cell_type": "markdown",
      "source": "# Cognitive Hackathon: Week 3 - Teacher's Guide\n## Day 1\n\n## Overview\nCognitive services code walkthrough of computer vision and text analytics examples and accompanying labs.\n\n## Objectives\nToday is a hands-on code day where you walk through the Computer Vision and Text Analytics code examples. Help them to understand these services well enough to use them in their own prototypes. It's OK to have students copy code into their Azure Notebook, rather than fully understand the Python HTTP requests, but they should have some instruction around what the code is doing and why. Students work on the Computer Vision Lab and Text Analytics Lab. \n\n## Teacher Instruction: Cognitive Services Code Walkthroughs\nSoon your teams will begin coding on this project. Before you do that let's look at how these cognitive services are called, close up:\n\n### Teacher Demo: Text Analytics Code Walkthrough (10 mins)\nWe'll begin with Text Analytics, and you'll discuss every line of code, as well as the basic functionality. Use the notebook called [*cogservices_textanalytics*](https://sp19tealsazureproject-sguthals.notebooks.azure.com/j/notebooks/Week%203/cogservices_textanalytics.ipynb) in the Azure Notebooks Week 3 folder.\n\nWalk through the code, demonstrating setup and execution of text analytics cognitive API calls. Talk about how we might parse the JSON.\n\n### Teacher Demo: Computer Vision Code Walkthrough (10 mins)\nNext we'll look at a Computer Vision example, also a quick runthrough to inspire students to be thinking about the capability. In the same Week 3 folder there's a notebook called [*cogservices_vision*](https://sp19tealsazureproject-sguthals.notebooks.azure.com/j/notebooks/Week%203/cogservices_vision.ipynb). \n\nWalk through the code, with special focus the steps needed to call and API and return a result. \n\n## Student Lab: Text Analytics (20 mins)\nStudents do the Text Analytics lab. Use the same notebook called [*cogservices_textanalytics*](https://sp19tealsazureproject-sguthals.notebooks.azure.com/j/notebooks/Week%203/cogservices_textanalytics.ipynb) in the Week 3 folder.\n\nEncourage them to use different text to test out the API.\n\n\n## Student Lab: Computer Vision (20 mins)\nStudents do the Computer Vision lab. In the same Week 3 folder there's a notebook called [*cogservices_vision*](https://sp19tealsazureproject-sguthals.notebooks.azure.com/j/notebooks/Week%203/cogservices_vision.ipynb). \n\nEncourage them to use different images to test out the API.\n\n## Summary\nIn this class, students learned how to use text analytics and computer vision cognitive services.\n\n"
    }
  ],
  "metadata": {
    "kernelspec": {
      "name": "python2",
      "display_name": "Python 2",
      "language": "python"
    },
    "language_info": {
      "mimetype": "text/x-python",
      "nbconvert_exporter": "python",
      "name": "python",
      "pygments_lexer": "ipython2",
      "version": "2.7.15",
      "file_extension": ".py",
      "codemirror_mode": {
        "version": 2,
        "name": "ipython"
      }
    }
  },
  "nbformat": 4,
  "nbformat_minor": 2
}
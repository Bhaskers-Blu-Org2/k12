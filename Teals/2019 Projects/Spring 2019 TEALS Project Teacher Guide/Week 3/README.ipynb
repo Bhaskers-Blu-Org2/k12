{
  "cells": [
    {
      "metadata": {
        "collapsed": true
      },
      "cell_type": "markdown",
      "source": "# Cognitive Hackathon: Week 3 - Teacher's Guide\n## Overview\n\nDemonstrate Cognitive API code examples to prepare students for Computer Vision and Text Analytics Labs. Students will implement their cognitive concept in the cours project and form conclusions. The four hours of this course this week will break down into these sections, which can be done one per day:\n\n**[Day 1](https://sp19azureteachersguide-sguthals.notebooks.azure.com/j/notebooks/Week%203/Day1.ipynb)**  Computer Vision and Text Analytics code walkthroughs and labs\n\n**[Day 2](https://sp19azureteachersguide-sguthals.notebooks.azure.com/j/notebooks/Week%203/Day2.ipynb)**  Students develop their project concept\n\n**[Day 3](https://sp19azureteachersguide-sguthals.notebooks.azure.com/j/notebooks/Week%203/Day3.ipynb)**  Students continue developing their concept\n\n**[Day 4](https://sp19azureteachersguide-sguthals.notebooks.azure.com/j/notebooks/Week%203/Day4.ipynb)**  Students create a summary of their project and their conclusions\n\n## WARNING\n\nStudents can get a free cognitive services trial for 7 days, so any portion of this lab that requires API calls should be able to be completed in 1 week (~4 hours). After 7 days with a trial they'll need to pay to play.\n\nHere is detail of these Week 3 course days:\n\n## [Day 1](https://sp19azureteachersguide-sguthals.notebooks.azure.com/j/notebooks/Week%203/Day1.ipynb)\nToday is a hands-on code day where you walk through the Computer Vision and Text Analytics code examples. Help them to understand these services well enough to use them in their own prototypes. It's OK to have students copy code into their Azure Notebook, rather than fully understand the Python HTTP requests, but they should have some instruction around what the code is doing and why. Students work on the Computer Vision Lab and Text Analytics Lab. \n\n## [Day 2](https://sp19azureteachersguide-sguthals.notebooks.azure.com/j/notebooks/Week%203/Day2.ipynb)\n\nStudents complete their vision and text labs from yesterday. Afterwards, it's time for students to get hands-on with code and markdown to develop their project concept. Again, copy and paste of API calls is acceptable. Focus needs to be on the concept and on useful data.\n\n## [Day 3](https://sp19azureteachersguide-sguthals.notebooks.azure.com/j/notebooks/Week%203/Day3.ipynb)\n\nStudents continue developing their concept.\n\n## [Day 4](https://sp19azureteachersguide-sguthals.notebooks.azure.com/j/notebooks/Week%203/Day4.ipynb)\n\nStudents complete the development of their project. They then create a summary of their project, including data inputs and JSON outputs and interpretation, as well as their conclusions. This will be presented to the class first thing next week.\n\n"
    }
  ],
  "metadata": {
    "kernelspec": {
      "name": "python2",
      "display_name": "Python 2",
      "language": "python"
    },
    "language_info": {
      "mimetype": "text/x-python",
      "nbconvert_exporter": "python",
      "name": "python",
      "pygments_lexer": "ipython2",
      "version": "2.7.15",
      "file_extension": ".py",
      "codemirror_mode": {
        "version": 2,
        "name": "ipython"
      }
    }
  },
  "nbformat": 4,
  "nbformat_minor": 2
}
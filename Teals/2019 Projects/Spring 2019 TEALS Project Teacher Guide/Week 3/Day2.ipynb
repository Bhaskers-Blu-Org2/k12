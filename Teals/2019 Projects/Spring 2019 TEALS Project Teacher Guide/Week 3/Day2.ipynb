{
  "cells": [
    {
      "metadata": {
        "collapsed": true
      },
      "cell_type": "markdown",
      "source": "# Cognitive Hackathon: Week 3 - Teacher's Guide\n## Day 2\n\n## Overview\nStudents begin implementation of their team projects!\n\n## Objectives\nStudents complete their vision and text labs from yesterday. Afterwards, students to get hands-on with code and markdown to develop their project concept. You will offer guidance to the teams in this.\n\n## Teacher Instruction: Implement Project (60 mins)\n\nUsing the Computer Vision or Text Analytics cognitive service and Python with Azure Notebooks, students explore their project concept. This is best thought of as Research and Development(R&D) project as teams will not be expected to produce a working app or prototype for the project. Copy and paste of API calls is acceptable. Focus needs to be on the concept and on useful data. The goal is for students to learn about these topics and experiences. \n\nThis course does not require or support the creation of a full project prototype. This course is about learning and exploring cognitive services in a relaxed, fun context (It is the end of the semester, after all!).\n\nStudents will have two days/classes to implement their project and on the last day of this week will formulate project conclusions.\n\nStudents should create a new Notebook with Python 2.7 and explore their data, just as they did in the text and vision labs yesterday.\n\n## Teacher Instruction: Project Guidance\n\nTeams may require individual project guidance. This could be in the form of help with cognitive APIs or the project topics. Here are some suggestions:\n\nIn forming requirements for the project, ask these questions: \n(The students do not have these questions.)\n\n* What is the goal of the project? Who would benefit from this idea? How?\n\nIncorporation of cognitive services may require answering questions like: \n\n* What are the important aspects of the cognitive analysis that must work in order for the project to succeed?\n\nDevising input requirements for the project necessitates answering this question:\n\n* What data sets (images, text) would be necessary to make this project a success?\n\nKnowing how the project will produce results requires an answer to:\n\n* What are the outputs of this project? Decisions, analysis, data, etc.\n\nMeasuring the success of the project:\n\n* What would be the best case scenario for the success of this project? How would it affect the world?\n\n\n## Teacher Instruction: Other Cognitive Services\nAmbitious students and teams may wish to explore other cognitive services besides Computer Vision and Text Analytics. This course is scoped at vision and text but that doesn't prevent teams from trying other services, such as Face or Translator Text. This would require that they learn APIs not presented in class, possibly requiring you to teach additional material of your own making or supporting development without providing proper background. The scope of cognitive services used by the teams on this project is entirely up to you. You are bounded only by your own time constraints and your students' imagination.\n\n## Summary\nStudent teams began implementation of their project concepts with the teacher's guidance."
    }
  ],
  "metadata": {
    "kernelspec": {
      "name": "python2",
      "display_name": "Python 2",
      "language": "python"
    },
    "language_info": {
      "mimetype": "text/x-python",
      "nbconvert_exporter": "python",
      "name": "python",
      "pygments_lexer": "ipython2",
      "version": "2.7.15",
      "file_extension": ".py",
      "codemirror_mode": {
        "version": 2,
        "name": "ipython"
      }
    }
  },
  "nbformat": 4,
  "nbformat_minor": 2
}
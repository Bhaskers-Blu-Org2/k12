{
  "cells": [
    {
      "metadata": {
        "collapsed": true
      },
      "cell_type": "markdown",
      "source": "# Cognitive Hackathon: Week 3 - Teacher's Guide\n## Day 3\n\n## Overview \nTeam project implementation continues as students continue developing their concept.\n\n## Objectives\nTeams continue brainstorming, analyzing, and coding their project. Teacher provides support and guidance.\n\n## Teacher Instructions: Implement Project (60 mins)\nUsing the Computer Vision or Text Analytics cognitive service and Python with Azure Notebooks, students further explore their project concept. Teams will not be expected to produce a working app or prototype for the project. The goal is for students to learn about these topics and experiences.\n\nAs noted earlier, this course does not require or support the creation of a full project prototype. This course is about learning and exploring cognitive services in a relaxed, fun context (It is the end of the semester, after all!).\n\nToday is the students' last whole class period to implement their project. Next class, they will wrap up the project and formulate project conclusions.\n\n## Teacher Instructions: Project Guidance\n\nTeams may require individual guidance. This could be in the form of help with cognitive APIs or the project topics. Here are some additional suggestions:\n\nIn forming requirements for the project, ask these questions: \n(The students do not have these questions.)\n\nIn the execution and implementation of this idea:\n* What will be some of the challenges?\n\nAfter the vision and text cognitive services functionalities are considered:\n* Are the these cognitive services sufficient to meet the projects requirements? If so then how? In not then what more is needed?\n* What are some of the risks in using cognitive services for this project?\n\nIn consideration of the input data sets:\n* Where will the data come from? What will be the sources of that data and how will it be gathered?\n\nRegarding project output:\n* Who will use this output? How?\n* What would constitute useful output?\n\nShooting as high as possible and being completely optimistic:\n* What would be the best case scenario for the success of this project? How would it affect the world?\n\n\n## Other Cognitive Services\nAmbitious students and teams may wish to explore other cognitive services besides Computer Vision and Text Analytics. The scope of cognitive services used by the teams on this project is entirely up to you. \n\n## Summary\nStudents should be nearly complete with their project implementation."
    }
  ],
  "metadata": {
    "kernelspec": {
      "name": "python2",
      "display_name": "Python 2",
      "language": "python"
    },
    "language_info": {
      "mimetype": "text/x-python",
      "nbconvert_exporter": "python",
      "name": "python",
      "pygments_lexer": "ipython2",
      "version": "2.7.15",
      "file_extension": ".py",
      "codemirror_mode": {
        "version": 2,
        "name": "ipython"
      }
    }
  },
  "nbformat": 4,
  "nbformat_minor": 2
}
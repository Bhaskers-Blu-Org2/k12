{
  "cells": [
    {
      "metadata": {
        "collapsed": true
      },
      "cell_type": "markdown",
      "source": "# Cognitive Hackathon: Week 4 - Teacher's Guide\n## Overview\n\nThe four hours of this course this week will break down into these sections, which can be done one per day:\n\n**[Day 1](https://sp19azureteachersguide-sguthals.notebooks.azure.com/j/notebooks/Week%204/Day1.ipynb)**  Project Discussion and Conclusions\n\n**[Day 2](https://sp19azureteachersguide-sguthals.notebooks.azure.com/j/notebooks/Week%204/Day2.ipynb)**  Data Presentation\n\n**[Day 3](https://sp19azureteachersguide-sguthals.notebooks.azure.com/j/notebooks/Week%204/Day3.ipynb)**  Group Review on Data\n\n**[Day 4](https://sp19azureteachersguide-sguthals.notebooks.azure.com/j/notebooks/Week%204/Day4.ipynb)**  Cognitive Hackathon Wrapup\n\n\nHere is detail of these Week 4 course days:\n\n## [Day 1](https://sp19azureteachersguide-sguthals.notebooks.azure.com/j/notebooks/Week%204/Day1.ipynb)\nTeams present their project conclusions.\n\n## [Day 2](https://sp19azureteachersguide-sguthals.notebooks.azure.com/j/notebooks/Week%204/Day2.ipynb)\nComplete the project presentations. Talk over the next two days about data, what it is, where it comes from, how we try to interpret it, and its challenges.\n\n## [Day 3](https://sp19azureteachersguide-sguthals.notebooks.azure.com/j/notebooks/Week%204/Day3.ipynb)\nConduct a Group Review and discussion around the project data, assumptions, and interpretation.\n\n## [Day 4](https://sp19azureteachersguide-sguthals.notebooks.azure.com/j/notebooks/Week%204/Day4.ipynb)\nCognitive Hackathon Wrapup. Students can activate more API keys for services they didn't try before to try them out just for fun.\n\n\n\n\n"
    }
  ],
  "metadata": {
    "kernelspec": {
      "name": "python2",
      "display_name": "Python 2",
      "language": "python"
    },
    "language_info": {
      "mimetype": "text/x-python",
      "nbconvert_exporter": "python",
      "name": "python",
      "pygments_lexer": "ipython2",
      "version": "2.7.15",
      "file_extension": ".py",
      "codemirror_mode": {
        "version": 2,
        "name": "ipython"
      }
    }
  },
  "nbformat": 4,
  "nbformat_minor": 2
}
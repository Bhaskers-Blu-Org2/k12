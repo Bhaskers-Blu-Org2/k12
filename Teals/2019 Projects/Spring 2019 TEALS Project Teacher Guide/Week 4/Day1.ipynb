{
  "cells": [
    {
      "metadata": {
        "collapsed": true
      },
      "cell_type": "markdown",
      "source": "# Cognitive Hackathon: Week 4 - Teacher's Guide\n## Day 1\n\n## Overview\nEach team will present their project's findings and conclusions. \n\n## Objectives\nStudents will learn about the goals, approaches, and implementations of all of the team projects. Project data and output will be explained along with project conclusions.\n\n## Teacher Instruction: Presentations (60 mins)\n(This exercise is in the students' Week 3 folder in their [Project Conclusions notebook](https://sp19tealsazureproject-sguthals.notebooks.azure.com/j/notebooks/Week%203/ProjectConclusions.ipynb).)\nCall upon each team in turn to share their conclusions arrived at last week. Encourage class discussion about the projects. This presentation and discussion may continue into the next class. The teams will address these topics:\n\n* Project Goals\n* Cognitive Services\n* Data Sets\n* Project Output and Result\n* Conclusions\n* New Directions\n\nThese are detailed descriptions of the suggested topics in their project conclusions:\n\n### Project Goals\nWhat is the goal of the project?\nWho would benefit from this idea? How?\nWhat are the challenges?\n\n### Cognitive Services\nHow will cognitive services help make the project a reality?\nAre the provided cognitive services sufficient to meet the projects requirements? If so then how? In not then what more is needed?\nWhat are the important aspects of the cognitive analysis that must work in order for the project to succeed?\nWhat are some of the risks in using cognitive services for this project?\n\n### Data Sets\nWhat data sets (images, text) would be necessary to make this project a success?\nWhat will be the sources of that data and how will it be gathered?\n\n### Project Output and Result\nWhat are the outputs of this project? Decisions, analysis, data, etc.\nWho will use this output? How?\nWhat would constitute useful output?\n\n### Conclusions\nWhat were the successes in this project? What were the challenges?\nWhat would be the best case scenario for the success of this project? How would it affect the world?\n\n### New Directions\nWhat were some of the best ideas that came up for other projects?\nWould those also use cognitive services or something else?\n\n## Summary\nStudents shared their project conclusions and learned the results of all of the other team projects."
    }
  ],
  "metadata": {
    "kernelspec": {
      "name": "python2",
      "display_name": "Python 2",
      "language": "python"
    },
    "language_info": {
      "mimetype": "text/x-python",
      "nbconvert_exporter": "python",
      "name": "python",
      "pygments_lexer": "ipython2",
      "version": "2.7.15",
      "file_extension": ".py",
      "codemirror_mode": {
        "version": 2,
        "name": "ipython"
      }
    }
  },
  "nbformat": 4,
  "nbformat_minor": 2
}
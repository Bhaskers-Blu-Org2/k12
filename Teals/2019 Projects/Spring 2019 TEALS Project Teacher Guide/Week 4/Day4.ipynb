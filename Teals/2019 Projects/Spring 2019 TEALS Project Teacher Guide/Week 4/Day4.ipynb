{
  "cells": [
    {
      "metadata": {
        "collapsed": true
      },
      "cell_type": "markdown",
      "source": "# Cognitive Hackathon: Week 4 - Teacher's Guide\n## Day 4\n\n## Overview\nCognitive Hackathon Wrapup with more cognitive service hacking\n\n## Objectives\nStudents can ask any outstanding questions. They can then activate more API keys for services they didn't try before to try them out just for fun.\n\n## Teacher Instructions: Final Words\nAsk the students if they have any further questions or topics for discussion in regards to the project and/or data. Now is the time to wrap up any loose threads from the course.\n\nThe rest of the day is all about hacking for fun:\n\n## Teacher Instructions: Bonus Cognitive Services\nRemind the students that there are quite a few more cognitive services that we haven't worked with in this course. Invite them to demo and try as many as they want. Invite them to do the following open-ended lab:\n\n## Student Lab: Bonus Cognitive Services (60 mins)\nThe complete text for this lab is in the *Week* 4 folder in [*Bonus-Cognitive-Services-Lab.md*](https://sp19tealsazureproject-sguthals.notebooks.azure.com/j/notebooks/Week%204/BonusLab.ipynb). \n\nThere are quite a few more cognitive services that we haven't worked with in this course. Demo them and try as many as you want: \n\n    https://azure.microsoft.com/en-us/services/cognitive-services/directory/\n\nWe can do an online demo these APIs using the \"Demo\" link next to the APIs. That's Exercise 1, the main exercise for today.\n\nThis hands-on lab includes the following exercises:\n* Exercise 1: Demo cognitive services\n* Exercise 2: Try some cognitive services\n\nExercise 2 requires some actual handling of code to call cognitive APIs. Difficulty ranges from moderate to difficult. The purpose of today is open-ended exploration. It's not a day where code needs to all work. If we get it working, fantastic. If we can review the code, read the doc, and see the API in action in the demo then we're still good. When in doubt or undue difficulty, stick with the demos (Exercise 1).\n\nIf we wish to work with code, by clicking \"Try for free\", you we get free 7-day licenses for all of these services and experiment with them on your own.\n\nAgain, run demos using the *Demo* links and get into the code with *Try It Out* and *Quickstarts*. \n\n## Summary\nThis class concludes the course and exposes students to more cognitive services.\n\n## End of Course\nThis course was an overview of some of the most important, cutting-edge technology available today. You now have an idea of what people mean when they say AI and how you can build your own cognitive apps!"
    }
  ],
  "metadata": {
    "kernelspec": {
      "name": "python2",
      "display_name": "Python 2",
      "language": "python"
    },
    "language_info": {
      "mimetype": "text/x-python",
      "nbconvert_exporter": "python",
      "name": "python",
      "pygments_lexer": "ipython2",
      "version": "2.7.15",
      "file_extension": ".py",
      "codemirror_mode": {
        "version": 2,
        "name": "ipython"
      }
    }
  },
  "nbformat": 4,
  "nbformat_minor": 2
}
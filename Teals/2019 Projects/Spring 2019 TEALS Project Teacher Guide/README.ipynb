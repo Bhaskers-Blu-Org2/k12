{
  "cells": [
    {
      "metadata": {
        "collapsed": true
      },
      "cell_type": "markdown",
      "source": "# Cognitive Hackathon: Overview\n\n\nThis is a four week course on cognitive computing with labs and a student project. \n\nHere are the topics by week:\n\n**[Week 1](https://spring2019tealsproject-sguthals.notebooks.azure.com/j/notebooks/Week%201/README.ipynb)**  Introduce cognitive computing and the development environment\n\n**[Week 2](https://spring2019tealsproject-sguthals.notebooks.azure.com/j/notebooks/Week%202/README.ipynb)**  Students brainstorm their project concept \n\n**[Week 3](https://spring2019tealsproject-sguthals.notebooks.azure.com/j/notebooks/Week%203/README.ipynb)**  Students implement their project concept \n\n**[Week 4](https://spring2019tealsproject-sguthals.notebooks.azure.com/j/notebooks/Week%204/README.ipynb)**  Project Conclusions, Discussion, and Data Presentation\n\n**[Suggested Rubric](https://spring2019tealsproject-sguthals.notebooks.azure.com/j/notebooks/Rubric.ipynb)** If you're planning on grading this project, this is a high-level, suggested rubric for this project. \n\nHere is detail of the four course weeks:\n\n## [Week 1](https://spring2019tealsproject-sguthals.notebooks.azure.com/j/notebooks/Week%201/README.ipynb)\nIntroduce cognitive computing and the development environment for the course. Azure Notebooks will be presented and worked with in a hands-on lab. Python fundamentals will be presented as well, along with a lab. Real-world Artificial Intelligence (AI) examples will be presented.\n\n## [Week 2](https://spring2019tealsproject-sguthals.notebooks.azure.com/j/notebooks/Week%202/README.ipynb)\nFirsthand cognitive examples will be presented. The course project begins: Students will brainstorm their project concept and choose an idea. They will group into teams to choose specific ideas to develop. Requirements, applications, and technical considerations will be discussed. Live Python code example of spell check cognitive service will be presented.\n\n## [Week 3](https://spring2019tealsproject-sguthals.notebooks.azure.com/j/notebooks/Week%203/README.ipynb)\nTeacher demonstrates Cognitive API code examples to prepare students for Computer Vision and Text Analytics Labs. Students will implement their cognitive concept in the course project and form conclusions.\n\n## [Week 4](https://spring2019tealsproject-sguthals.notebooks.azure.com/j/notebooks/Week%204/README.ipynb)\nStudents will present their Project Conclusions. They will discuss considerations with data and apply these to their project. Additional cognitive services may be experimented with.\n\nTo get started, clone this Azure Notebook:\n<img width=\"1346\" alt=\"Screen Shot 2019-04-24 at 5 33 31 AM\" src=\"https://user-images.githubusercontent.com/1314285/56659754-c6ca2a00-6652-11e9-9a23-377baf2adb33.png\">"
    }
  ],
  "metadata": {
    "kernelspec": {
      "name": "python2",
      "display_name": "Python 2",
      "language": "python"
    },
    "language_info": {
      "mimetype": "text/x-python",
      "nbconvert_exporter": "python",
      "name": "python",
      "pygments_lexer": "ipython2",
      "version": "2.7.15",
      "file_extension": ".py",
      "codemirror_mode": {
        "version": 2,
        "name": "ipython"
      }
    }
  },
  "nbformat": 4,
  "nbformat_minor": 2
}
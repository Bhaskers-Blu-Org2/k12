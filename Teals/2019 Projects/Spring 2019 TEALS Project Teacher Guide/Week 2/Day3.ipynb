{
  "cells": [
    {
      "metadata": {
        "collapsed": true
      },
      "cell_type": "markdown",
      "source": "# Cognitive Hackathon: Week 2 - Teacher's Guide\n## Day 3\n\n## Overview\nStudents will develop the technical considerations of their project.\n\n## Objectives\nToday the activities will be:\n* Conduct ideation phase of Student Project but from a technical standpoint. \n* Each team reports to the class to share and discuss team project concepts.\n\n# Student Project: Technical Requirements\n\n## Teacher Instructions: Technology Overview (40 min)\n(This exercise is on the [students' project sheet](https://sp19tealsazureproject-sguthals.notebooks.azure.com/j/notebooks/Project.ipynb))\nNow that they have a high level concept for the project, let's get into the technical detail. Teams should convene and discuss technical requirements and implemention of their project. They should discuss and answer questions like these:\n\n* What cognitive API will I use? (Explore the Azure Cognitive Services APIs and think about how you might use them)\n* Where would the data come from? (A dataset doesn't have to currently exist for this project, but describe the dataset, where it would come from, and if anything similar does exist.)\n* What do you think the data look like? (Give a description of what kind of data and examples of that data).\n* What will be the UI design of my app? (Use Power Point, or even paper, to sketch out the screen(s) that your users would see.)\n* How will I measure success? (Describe what effect you want to have with your application).\n\n\n## Teacher Instructions: Team Report (20 min)\nHave the class reconvene so each team can report on their idea with a brief explanation, key technical implementation considerations, and blockers.  Blockers are obstacles that they might use help with from the class. Discuss as time allows.\n\n## Summary\nIn this class, teams examined the technical aspects of their project concept.\n\n[<< Day 2](https://sp19azureteachersguide-sguthals.notebooks.azure.com/j/notebooks/Week%202/Day2.ipynb)          \n\n[Day 4 >>](https://sp19azureteachersguide-sguthals.notebooks.azure.com/j/notebooks/Week%202/Day4.ipynb)\n"
    }
  ],
  "metadata": {
    "kernelspec": {
      "name": "python2",
      "display_name": "Python 2",
      "language": "python"
    },
    "language_info": {
      "mimetype": "text/x-python",
      "nbconvert_exporter": "python",
      "name": "python",
      "pygments_lexer": "ipython2",
      "version": "2.7.15",
      "file_extension": ".py",
      "codemirror_mode": {
        "version": 2,
        "name": "ipython"
      }
    }
  },
  "nbformat": 4,
  "nbformat_minor": 2
}
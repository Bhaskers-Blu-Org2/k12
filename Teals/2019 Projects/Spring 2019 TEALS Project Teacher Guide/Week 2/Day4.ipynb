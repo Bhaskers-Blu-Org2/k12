{
  "cells": [
    {
      "metadata": {
        "collapsed": true
      },
      "cell_type": "markdown",
      "source": "# Cognitive Hackathon: Week 2 - Teacher's Guide\n## Day 4\n\n## Overview\nThis class introduces students to cognitive services hands-on.\n\n## Objectives\nToday students get their hands on some code: \n* Conduct a code walkthrough using Bing Spell Check API\n* Students will work on a related Lab: Spell Check Cognitive Service \n\n## Teacher Explains: Important License Constraint \nFree Cognitive Service Licenses only last seven days then the student must set up a paid plan to use the service.\n\nStudents will copy code into their Azure Notebook from the the Bing Spell Check API *only*. Warn students not to use other services yet due to license constraints. They need to wait until next week. If they do not wait until next week to active other licenses, they may not be able to complete the course project. \n\n\n## Teacher Demo: Cognitive Services Code Walkthrough (20 mins)\nConduct a code walkthrough using Bing Spell Check API as an example to demo how to call the Cognitive Service APIs in Python and interpreting JSON output.\n\nUse the [*Spell Check Service*](https://sp19tealsazureproject-sguthals.notebooks.azure.com/j/notebooks/Week%202/SpellCheckService.ipynb) notebook in the student Week 2 notebooks.\n\n## Student Lab: Spell Check Cognitive Service (40 mins)\nStudents will copy code into their Azure Notebook from the the Bing Spell Check API only. They needn't have a full understanding of HTTP calls but need to know how to build data sets for analysis and how to parse and/or interpret resulting JSON.\n\nStudents use the [*Spell Check Service*](https://sp19tealsazureproject-sguthals.notebooks.azure.com/j/notebooks/Week%202/SpellCheckService.ipynb) notebook in their Week 2 notebooks.\n\n\n## Summary\nStudents worked hands-on with cognitive services code.\n\n[<< Day 3](https://sp19azureteachersguide-sguthals.notebooks.azure.com/j/notebooks/Week%202/Day3.ipynb)          \n\n[Week 3 >>](https://sp19azureteachersguide-sguthals.notebooks.azure.com/j/notebooks/Week%203/README.ipynb)\n"
    }
  ],
  "metadata": {
    "kernelspec": {
      "name": "python2",
      "display_name": "Python 2",
      "language": "python"
    },
    "language_info": {
      "mimetype": "text/x-python",
      "nbconvert_exporter": "python",
      "name": "python",
      "pygments_lexer": "ipython2",
      "version": "2.7.15",
      "file_extension": ".py",
      "codemirror_mode": {
        "version": 2,
        "name": "ipython"
      }
    }
  },
  "nbformat": 4,
  "nbformat_minor": 2
}
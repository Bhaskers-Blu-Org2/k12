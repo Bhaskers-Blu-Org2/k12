{
  "cells": [
    {
      "metadata": {
        "collapsed": true
      },
      "cell_type": "markdown",
      "source": "# Cognitive Hackathon: Week 2 - Teacher's Guide\n## Day 2\n\n## Overview\nStudents brainstorm a topic for their course project.\n\n## Objectives\nToday we begin Student Project. Students work together in teams to form ideas for new technology that could use these services for socially conscious goals. Guide students through ideation, technological design, and identifying potential issues. Students add to their Azure Notebook with their ideas. They need to identify a specific data set to use with the cognitive services API.\n\n## Teacher Explains: Student Course Project \nUsing the cognitive capabilities of computer vision and text analytics, you will develop an idea for the use of cognitive services for socially consious goal. Choose whichever direction, industry, goal, or result that you would like to pursue. You could make it something personal to you, something that you care about or that you find interesting. You can be an entrepreneur, be social-minded, discover something, or change the way people think. It's up to you!\n\nThe student course project is in the Student Materials Notebook and is called [*Project*](https://sp19tealsazureproject-sguthals.notebooks.azure.com/j/notebooks/Project.ipynb). Today we'll create teams and brainstorm your idea for the project. We're going to do it primarily from a functional approach. Next class will get into the technical implementation of your idea.\n\n## Teacher Instructions: Create Teams\nCreate teams of two or three students to work together on the project.\n\n## Teacher Instructions: Idea Stage (15 min)\n(This exercise is on the [students' project sheet](https://sp19tealsazureproject-sguthals.notebooks.azure.com/j/notebooks/Project.ipynb).)\nGet started by letting everyone come up with their own idea. Students spend the next 15 mins working *independently* to think of an idea. Once they've picked their idea, they'll answer the following questions in 2-5 sentences to share:\n* What is my idea? \n* What inspired my idea?\n* Who would benefit from this idea? How?\n\n## Teacher Instructions: Team Up and Choose the Big Idea (45 mins)\n(This exercise is on the [students' project sheet](https://sp19tealsazureproject-sguthals.notebooks.azure.com/j/notebooks/Project.ipynb).)\nStudents spend the next 45 mins working with their group. Each student should present their idea individually. Afterwards, their team chooses which idea to  explore. Once they have chosen, they'll answer the following questions with their group:\n* How would I build this idea? You do not have to know exactly, just an estimation of what kinds of data sources you might need and if this would be a phone app, if it needs constant Internet source, if you need access to the camera, etc).\n* What are the biggest challenges? (Predict what the challenges might be to develop this product. Is it the technology? Convincing customers it's a good idea?)\n* Who has done something similar? Did they succeed? How? (Spend some time searching and comparing existing products with your idea).\n\n## Summary\nThis class initiated the student course project. Students organized into teams and brainstormed a concept for their team project.\n\n[<< Day 1](https://sp19azureteachersguide-sguthals.notebooks.azure.com/j/notebooks/Week%202/Day1.ipynb)          \n\n[Day 3 >>](https://sp19azureteachersguide-sguthals.notebooks.azure.com/j/notebooks/Week%202/Day3.ipynb)"
    }
  ],
  "metadata": {
    "kernelspec": {
      "name": "python2",
      "display_name": "Python 2",
      "language": "python"
    },
    "language_info": {
      "mimetype": "text/x-python",
      "nbconvert_exporter": "python",
      "name": "python",
      "pygments_lexer": "ipython2",
      "version": "2.7.15",
      "file_extension": ".py",
      "codemirror_mode": {
        "version": 2,
        "name": "ipython"
      }
    }
  },
  "nbformat": 4,
  "nbformat_minor": 2
}
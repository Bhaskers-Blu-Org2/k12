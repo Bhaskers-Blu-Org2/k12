{
  "cells": [
    {
      "metadata": {
        "collapsed": true
      },
      "cell_type": "markdown",
      "source": "# Cognitive Hackathon: Week 2 - Teacher's Guide\n## Overview\n\nWeek The four hours of this course this week will break down into these sections, which can be done one per day:\n\n**[Day 1](https://sp19azureteachersguide-sguthals.notebooks.azure.com/j/notebooks/Week%202/Day1.ipynb)**  Cognitive Services demos and discussion\n\n**[Day 2](https://sp19azureteachersguide-sguthals.notebooks.azure.com/j/notebooks/Week%202/Day2.ipynb)**  Begin student project in teams and brainstorm concepts\n\n**[Day 3](https://sp19azureteachersguide-sguthals.notebooks.azure.com/j/notebooks/Week%202/Day3.ipynb)**  Continue Student Project and discuss team concepts\n\n**[Day 4](https://sp19azureteachersguide-sguthals.notebooks.azure.com/j/notebooks/Week%202/Day1.ipynb)**  Spell Check Cognitive Service code walkthrough and lab\n\n## Important Note: Licenses\n\nRemind students that they shouldn't activate all of the API keys this week because they will only have 7 days. Next week they will have an opportunity to activate the ones needed for their project and in Week 4 they will be able to play with any ones they didn't use yet if they want to.\n\n\nHere is detail of these Week 2 course days:\n\n## [Day 1](https://sp19azureteachersguide-sguthals.notebooks.azure.com/j/notebooks/Week%202/Day1.ipynb)\n\nConduct a cognitive services code walkthough, focusing on Computer Vision and text analytics. Students will use this as a guide to figuring out their idea, knowing that they will have to choose one or more services to focus on in the next week. Moderate a discussion and brainstorming session about cognitive services and what they can do. Review the Project Summary and some Sample Projects.\n\n## [Day 2](https://sp19azureteachersguide-sguthals.notebooks.azure.com/j/notebooks/Week%202/Day2.ipynb)\n\nHand out and begin Student Project. Students work together in teams to form ideas for new technology that could use these services for socially conscious goals. Guide students through ideation, technological design, and identifying potential issues. Students add to their Azure Notebook with their ideas. They need to identify a specific data set to use with the cognitive services API.\n\n## [Day 3](https://sp19azureteachersguide-sguthals.notebooks.azure.com/j/notebooks/Week%202/Day3.ipynb)\n\nContinue ideation phase of Student Project. Guide students as needed and encourage them to document their ideas in Notebooks. Have a group check-in to share and discuss team project concepts.\n\n## [Day 4](https://sp19azureteachersguide-sguthals.notebooks.azure.com/j/notebooks/Week%202/Day4.ipynb)\n\nConduct a code walkthrough using Bing Spell Check API as an example to demo how to call the Cognitive Service APIs in Python and interpreting JSON output. Students will work on a related Lab: Spell Check Cognitive Service. Students will copy code into their Azure Notebook from the the Bing Spell Check API only. They needn't have a full understanding of  HTTP calls but need to know how to build data sets for analysis and how to parse and/or interpret resulting JSON.\n\n## Important\nWarn students not to use other services besides Spell Check yet due to license constraints. They need to wait until next week. If they do not wait until next week to active other licenses, they may not be able to complete the course project.\n"
    }
  ],
  "metadata": {
    "kernelspec": {
      "name": "python2",
      "display_name": "Python 2",
      "language": "python"
    },
    "language_info": {
      "mimetype": "text/x-python",
      "nbconvert_exporter": "python",
      "name": "python",
      "pygments_lexer": "ipython2",
      "version": "2.7.15",
      "file_extension": ".py",
      "codemirror_mode": {
        "version": 2,
        "name": "ipython"
      }
    }
  },
  "nbformat": 4,
  "nbformat_minor": 2
}
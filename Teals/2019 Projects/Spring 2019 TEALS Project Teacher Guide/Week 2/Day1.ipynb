{
  "cells": [
    {
      "metadata": {
        "collapsed": true
      },
      "cell_type": "markdown",
      "source": "# Cognitive Hackathon: Week 2 - Teacher's Guide\n## Day 1\n\n## Overview\nThis class will examine specific cognitive services, text and vision. \n\n## Objectives\nThis class focuses on the demonstration and discussion of cognitive services:\n* Conduct a cognitive services demo, focusing on Computer Vision and text analytics. Students will use this as a guide to figuring out their idea, knowing that they will have to choose one or more services to focus on in the next week. \n* Moderate a discussion and brainstorming session about cognitive services and what they can do. Review the Student Project Summary.\n\n## Teacher Instructions: Cognitive Computing Demos\nBefore students can begin brainstorming ideas of their own, they need an understanding of what's possible with these cognitive services and how to use them. We won't be expecting students to code service calls from scratch as that would turn this course into too much work for the final weeks of the year. For today you'll explain the fundamentals, demo the code, and explain how each step fits together: data prep, API call, and JSON return. From there the students will cut and paste from these prepared notebooks into their own notebooks. We want the students to be able to focus on the concepts and developing their ideas rather than coding and debugging in this course. As you might imagine, a true implementation of most of their ideas would require an entire semester (or more). Next week you'll do a more in-depth code walkthrough of these examples.\n\nThis week these demos are about funtionality and concepts. Make reference to the code in the notebook cells, and let students check it out and get curious, but stay on the topic of functionality. Coding questions should be answered quickly then quietly noted, with those questions answered in code reviews of these notebooks next week.\n\n## Teacher Explains: Cognitive Technical Demos\nLast week we saw some of the cool things that cognitive computing can do. Then we looked at how to code in Python using Notebooks.\n\nNow let's look some Python programs that use cognitive services!\n\n### Teacher Demo: text analytics (20 mins)\nDemonstrate Text Analytics demos, a functionality runthrough to inspire students to be thinking about the capability. Go to the [Azure Cognitive Services Speech](https://azure.microsoft.com/en-us/services/cognitive-services/directory/speech/) page and walk through some of the demos.\n\n### Teacher Demo: Computer Vision Demo (20 mins)\nDemonstrate Computer Vision demos, a functionality runthrough to inspire students to be thinking about the capability. Go to the [Azure Cognitive Services Vision](https://azure.microsoft.com/en-us/services/cognitive-services/directory/vision/) page and walk through some of the demos.\n\nOnce Text and Vision examples are explained, it's time for some discussion of the topics introduced over the past week.\n\n## Teacher Leads Discussion: Cognitive Services Capabilities (20 mins)\n(Students have this exercise in their Week 2 folder called [*Cognitive Services Capabilities*](https://sp19tealsazureproject-sguthals.notebooks.azure.com/j/notebooks/Week%202/CognitiveServicesLab.ipynb))\nSet the stage for the student project by moderating discussion and brainstorming about cognitive services and what they can and could do. Here are some leading questions:\n\n### Thoughts\n* What are the students' thoughts on the past week?\n* What are their questions?\n\n### Cognitive\n* What are some of the different kinds of cognitive services?\n* What can they do?\n* What types of questions can these services answer?\n* What decisions can they help people make?\n\n### Data sets and analysis\n* Why are images made? Where are pictures and videos taken?\n* Why is text made? What are circumstances where text is created?\n* Why is identification and cataloguing within images important?\n* Why is sentiment analysis (good/bad feeling) important?\n\n### Computer Vision\n* How could we use Computer Vision?\n* Where could we use Computer Vision?\n* How could Computer Vision help us to better understand the world?\n* What are some useful Computer Vision data sets?\n* What decisions could Computer Vision help us with?\n\n### Text Analytics\n* How could we use text analytics?\n* Where could we use text analytics?\n* How could text analytics help us to better understand people? \n* What are some useful text analytics data sets?\n* What decisions could text analytics help us with?\n\nEveryone should have a good understanding now of cognitive services and the directions they can be taken. We're wading into the project now.\n\n## Teacher Explains: Review the Student Project Summary \nTomorrow is the big day where students begin their course project. Inspired by the discussion today, they'll find a direction of their own. Review once more the project goal:\n\n    How would you change the world using cognitive computing?\n\n## Summary\nThis class explored specific examples of cognitive computing, including computer vision and text analytics.\n\n[<< Week 2](https://sp19azureteachersguide-sguthals.notebooks.azure.com/j/notebooks/Week%202/README.ipynb)  \n\n[Day 2 >>](https://sp19azureteachersguide-sguthals.notebooks.azure.com/j/notebooks/Week%202/Day2.ipynb)"
    }
  ],
  "metadata": {
    "kernelspec": {
      "name": "python2",
      "display_name": "Python 2",
      "language": "python"
    },
    "language_info": {
      "mimetype": "text/x-python",
      "nbconvert_exporter": "python",
      "name": "python",
      "pygments_lexer": "ipython2",
      "version": "2.7.15",
      "file_extension": ".py",
      "codemirror_mode": {
        "version": 2,
        "name": "ipython"
      }
    }
  },
  "nbformat": 4,
  "nbformat_minor": 2
}